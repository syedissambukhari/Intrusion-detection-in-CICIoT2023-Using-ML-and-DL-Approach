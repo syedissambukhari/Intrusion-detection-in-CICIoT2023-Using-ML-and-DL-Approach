{
 "cells": [
  {
   "cell_type": "markdown",
   "metadata": {},
   "source": [
    " # Intrusion Detection in IoT using AdaBoost Model"
   ]
  },
  {
   "cell_type": "code",
   "execution_count": 1,
   "metadata": {
    "id": "Q-EJv2Q65fme"
   },
   "outputs": [],
   "source": [
    "# Importing necessary libraries\n",
    "import pandas as pd\n",
    "import matplotlib.pyplot as plt\n",
    "import glob\n",
    "from sklearn.tree import DecisionTreeClassifier\n",
    "from sklearn.metrics import confusion_matrix, accuracy_score, recall_score, precision_score, f1_score\n",
    "from sklearn.preprocessing import LabelBinarizer, LabelEncoder\n",
    "from sklearn.model_selection import train_test_split\n",
    "from sklearn.impute import SimpleImputer\n",
    "from sklearn.ensemble import AdaBoostClassifier, GradientBoostingClassifier\n",
    "from sklearn.linear_model import LogisticRegression\n",
    "from tqdm import tqdm\n",
    "import seaborn as sns\n",
    "from joblib import dump, load\n",
    "%matplotlib inline"
   ]
  },
  {
   "cell_type": "code",
   "execution_count": 2,
   "metadata": {
    "colab": {
     "base_uri": "https://localhost:8080/"
    },
    "id": "W9fMMbOi5ZsW",
    "outputId": "0425991f-d148-49d1-ae2f-3edd6bccc3a6"
   },
   "outputs": [
    {
     "name": "stderr",
     "output_type": "stream",
     "text": [
      "Processing files: 100%|██████████████████████████████████████████████████████████████| 35/35 [01:29<00:00,  2.57s/file]\n"
     ]
    }
   ],
   "source": [
    "# Concatenating Dataset\n",
    "folder_path = 'dataset'\n",
    "file_paths = glob.glob(folder_path + '/*.csv')\n",
    "\n",
    "df = pd.DataFrame()\n",
    "for file_path in tqdm(file_paths, desc='Processing files', unit='file'):\n",
    "    dff = pd.read_csv(file_path)\n",
    "    df = pd.concat([df, dff], ignore_index=True)"
   ]
  },
  {
   "cell_type": "code",
   "execution_count": 3,
   "metadata": {
    "colab": {
     "base_uri": "https://localhost:8080/"
    },
    "id": "YtUlqVgf5miq",
    "outputId": "f6f758a2-5ef7-4d12-a229-31a741f32379"
   },
   "outputs": [
    {
     "name": "stdout",
     "output_type": "stream",
     "text": [
      "Index(['flow_duration', 'Header_Length', 'Protocol Type', 'Duration', 'Rate',\n",
      "       'Srate', 'Drate', 'fin_flag_number', 'syn_flag_number',\n",
      "       'rst_flag_number', 'psh_flag_number', 'ack_flag_number',\n",
      "       'ece_flag_number', 'cwr_flag_number', 'ack_count', 'syn_count',\n",
      "       'fin_count', 'urg_count', 'rst_count', 'HTTP', 'HTTPS', 'DNS', 'Telnet',\n",
      "       'SMTP', 'SSH', 'IRC', 'TCP', 'UDP', 'DHCP', 'ARP', 'ICMP', 'IPv', 'LLC',\n",
      "       'Tot sum', 'Min', 'Max', 'AVG', 'Std', 'Tot size', 'IAT', 'Number',\n",
      "       'Magnitue', 'Radius', 'Covariance', 'Variance', 'Weight', 'label'],\n",
      "      dtype='object')\n"
     ]
    }
   ],
   "source": [
    "print(df.keys())\n"
   ]
  },
  {
   "cell_type": "code",
   "execution_count": 4,
   "metadata": {
    "colab": {
     "base_uri": "https://localhost:8080/"
    },
    "id": "gM0PKqMH5mtV",
    "outputId": "5a030d0a-ca35-4247-d99b-146dd8f7d0c0"
   },
   "outputs": [
    {
     "name": "stdout",
     "output_type": "stream",
     "text": [
      "<class 'pandas.core.frame.DataFrame'>\n",
      "RangeIndex: 8706783 entries, 0 to 8706782\n",
      "Data columns (total 47 columns):\n",
      " #   Column           Dtype  \n",
      "---  ------           -----  \n",
      " 0   flow_duration    float64\n",
      " 1   Header_Length    float64\n",
      " 2   Protocol Type    float64\n",
      " 3   Duration         float64\n",
      " 4   Rate             float64\n",
      " 5   Srate            float64\n",
      " 6   Drate            float64\n",
      " 7   fin_flag_number  float64\n",
      " 8   syn_flag_number  float64\n",
      " 9   rst_flag_number  float64\n",
      " 10  psh_flag_number  float64\n",
      " 11  ack_flag_number  float64\n",
      " 12  ece_flag_number  float64\n",
      " 13  cwr_flag_number  float64\n",
      " 14  ack_count        float64\n",
      " 15  syn_count        float64\n",
      " 16  fin_count        float64\n",
      " 17  urg_count        float64\n",
      " 18  rst_count        float64\n",
      " 19  HTTP             float64\n",
      " 20  HTTPS            float64\n",
      " 21  DNS              float64\n",
      " 22  Telnet           float64\n",
      " 23  SMTP             float64\n",
      " 24  SSH              float64\n",
      " 25  IRC              float64\n",
      " 26  TCP              float64\n",
      " 27  UDP              float64\n",
      " 28  DHCP             float64\n",
      " 29  ARP              float64\n",
      " 30  ICMP             float64\n",
      " 31  IPv              float64\n",
      " 32  LLC              float64\n",
      " 33  Tot sum          float64\n",
      " 34  Min              float64\n",
      " 35  Max              float64\n",
      " 36  AVG              float64\n",
      " 37  Std              float64\n",
      " 38  Tot size         float64\n",
      " 39  IAT              float64\n",
      " 40  Number           float64\n",
      " 41  Magnitue         float64\n",
      " 42  Radius           float64\n",
      " 43  Covariance       float64\n",
      " 44  Variance         float64\n",
      " 45  Weight           float64\n",
      " 46  label            object \n",
      "dtypes: float64(46), object(1)\n",
      "memory usage: 3.0+ GB\n",
      "None\n"
     ]
    }
   ],
   "source": [
    "print(df.info())"
   ]
  },
  {
   "cell_type": "code",
   "execution_count": 5,
   "metadata": {
    "colab": {
     "base_uri": "https://localhost:8080/"
    },
    "id": "NoHQNHKe5o8X",
    "outputId": "bcad64bb-249a-40ed-c801-69165f6969e2"
   },
   "outputs": [
    {
     "data": {
      "text/plain": [
       "[]"
      ]
     },
     "execution_count": 5,
     "metadata": {},
     "output_type": "execute_result"
    }
   ],
   "source": [
    "# Handling missing values and mapping data\n",
    "[features for features in df.columns if df[features].isnull().sum() > 0]\n"
   ]
  },
  {
   "cell_type": "code",
   "execution_count": 6,
   "metadata": {
    "colab": {
     "base_uri": "https://localhost:8080/"
    },
    "id": "jAZJlgUy5pAJ",
    "outputId": "c87c952a-3241-4ba4-ae34-ab9e4c37d7d3"
   },
   "outputs": [
    {
     "name": "stdout",
     "output_type": "stream",
     "text": [
      "34\n"
     ]
    }
   ],
   "source": [
    "# Unique labels in the dataset\n",
    "print(df['label'].nunique())\n",
    "\n"
   ]
  },
  {
   "cell_type": "code",
   "execution_count": 7,
   "metadata": {
    "colab": {
     "base_uri": "https://localhost:8080/"
    },
    "id": "HXOutUiP5smD",
    "outputId": "e5e6d161-eccb-4f4c-8879-90e7f2c78196"
   },
   "outputs": [
    {
     "name": "stdout",
     "output_type": "stream",
     "text": [
      "['DDoS-RSTFINFlood' 'DoS-TCP_Flood' 'DDoS-ICMP_Flood' 'DoS-UDP_Flood'\n",
      " 'DoS-SYN_Flood' 'Mirai-greeth_flood' 'DDoS-SynonymousIP_Flood'\n",
      " 'Mirai-udpplain' 'DDoS-SYN_Flood' 'DDoS-PSHACK_Flood' 'DDoS-TCP_Flood'\n",
      " 'DDoS-UDP_Flood' 'BenignTraffic' 'MITM-ArpSpoofing'\n",
      " 'DDoS-ACK_Fragmentation' 'Mirai-greip_flood' 'DoS-HTTP_Flood'\n",
      " 'DDoS-ICMP_Fragmentation' 'Recon-PortScan' 'DNS_Spoofing'\n",
      " 'DDoS-UDP_Fragmentation' 'Recon-OSScan' 'XSS' 'DDoS-HTTP_Flood'\n",
      " 'Recon-HostDiscovery' 'CommandInjection' 'VulnerabilityScan'\n",
      " 'DDoS-SlowLoris' 'Backdoor_Malware' 'BrowserHijacking'\n",
      " 'DictionaryBruteForce' 'SqlInjection' 'Recon-PingSweep'\n",
      " 'Uploading_Attack']\n"
     ]
    }
   ],
   "source": [
    "print(df['label'].unique())"
   ]
  },
  {
   "cell_type": "code",
   "execution_count": 8,
   "metadata": {
    "id": "z4GlG9Bw5spx"
   },
   "outputs": [],
   "source": [
    "# Sub-class Mapping , classify each attack separately by their family\n",
    "mapping = {\n",
    "    'DDoS-ICMP_Flood': 'DDoS',\n",
    "    'DDoS-UDP_Flood': 'DDoS',\n",
    "    'DDoS-TCP_Flood': 'DDoS',\n",
    "    'DDoS-PSHACK_Flood': 'DDoS',\n",
    "    'DDoS-SYN_Flood': 'DDoS',\n",
    "    'DDoS-RSTFINFlood': 'DDoS',\n",
    "    'DDoS-SynonymousIP_Flood': 'DDoS',\n",
    "    'DoS-UDP_Flood': 'DoS',\n",
    "    'DoS-TCP_Flood': 'DoS',\n",
    "    'DoS-SYN_Flood': 'DoS',\n",
    "    'BenignTraffic': 'Benign',\n",
    "    'Mirai-greeth_flood': 'Mirai',\n",
    "    'Mirai-udpplain': 'Mirai',\n",
    "    'Mirai-greip_flood': 'Mirai',\n",
    "    'DDoS-ICMP_Fragmentation': 'DDoS',\n",
    "    'MITM-ArpSpoofing': 'MITM',\n",
    "    'DDoS-UDP_Fragmentation': 'DDoS',\n",
    "    'DDoS-ACK_Fragmentation': 'DDoS',\n",
    "    'DNS_Spoofing': 'Spoofing',\n",
    "    'Recon-HostDiscovery': 'Recon',\n",
    "    'Recon-OSScan': 'Recon',\n",
    "    'Recon-PortScan': 'Recon',\n",
    "    'DoS-HTTP_Flood': 'DoS',\n",
    "    'VulnerabilityScan': 'Recon',\n",
    "    'DDoS-HTTP_Flood': 'DDoS',\n",
    "    'DDoS-SlowLoris': 'DDoS',\n",
    "    'DictionaryBruteForce': 'BruteForce',\n",
    "    'BrowserHijacking': 'Hijacking',\n",
    "    'CommandInjection': 'Injection',\n",
    "    'SqlInjection': 'Injection',\n",
    "    'XSS': 'XSS',\n",
    "    'Backdoor_Malware': 'Malware',\n",
    "    'Recon-PingSweep': 'Recon',\n",
    "    'Uploading_Attack': 'Upload'\n",
    "}\n"
   ]
  },
  {
   "cell_type": "code",
   "execution_count": 9,
   "metadata": {
    "id": "bA_ZvXsm5ss-"
   },
   "outputs": [],
   "source": [
    "df['label'] = df['label'].map(mapping)"
   ]
  },
  {
   "cell_type": "code",
   "execution_count": 10,
   "metadata": {
    "colab": {
     "base_uri": "https://localhost:8080/"
    },
    "id": "zMw2HdCg52il",
    "outputId": "4ea585c7-02d1-4da2-c9f9-375da3a00fef"
   },
   "outputs": [
    {
     "name": "stdout",
     "output_type": "stream",
     "text": [
      "label\n",
      "DDoS          6338817\n",
      "DoS           1507476\n",
      "Mirai          491428\n",
      "Benign         205116\n",
      "Recon           65827\n",
      "MITM            57612\n",
      "Spoofing        33527\n",
      "BruteForce       2399\n",
      "Injection        1974\n",
      "Hijacking        1062\n",
      "XSS               675\n",
      "Malware           637\n",
      "Upload            233\n",
      "Name: count, dtype: int64\n"
     ]
    }
   ],
   "source": [
    "# Checking the distribution of labels after mapping\n",
    "print(df['label'].value_counts())"
   ]
  },
  {
   "cell_type": "code",
   "execution_count": 11,
   "metadata": {
    "id": "GqHnRrpV52lL"
   },
   "outputs": [],
   "source": [
    "predictorNames = ['flow_duration', 'Header_Length', 'Duration', 'Rate',\n",
    "       'Srate', 'Drate', 'fin_flag_number', 'syn_flag_number',\n",
    "       'rst_flag_number', 'psh_flag_number', 'ack_flag_number',\n",
    "       'ece_flag_number', 'cwr_flag_number', 'ack_count', 'syn_count',\n",
    "       'fin_count', 'urg_count', 'rst_count', 'HTTP', 'HTTPS', 'DNS', 'Telnet',\n",
    "       'SMTP', 'SSH', 'IRC', 'TCP', 'UDP', 'DHCP', 'ARP', 'ICMP', 'IPv', 'LLC',\n",
    "       'Tot sum', 'Min', 'Max', 'AVG', 'Std', 'Tot size', 'IAT', 'Number',\n",
    "       'Magnitue', 'Radius', 'Covariance', 'Variance', 'Weight']"
   ]
  },
  {
   "cell_type": "code",
   "execution_count": 12,
   "metadata": {
    "id": "jPOwWzEi52oQ"
   },
   "outputs": [],
   "source": [
    "predictors = df[predictorNames]\n",
    "response = df['label']"
   ]
  },
  {
   "cell_type": "code",
   "execution_count": 13,
   "metadata": {
    "id": "I9GkwBcF6Ovt"
   },
   "outputs": [],
   "source": [
    "# Splitting the Dataset\n",
    "X_train, X_test, y_train, y_test = train_test_split(predictors, response, test_size=0.2, random_state=42, stratify=response)\n"
   ]
  },
  {
   "cell_type": "code",
   "execution_count": 14,
   "metadata": {
    "id": "nixv2i52py-X"
   },
   "outputs": [],
   "source": [
    "# Importing Libraries:\n",
    "import pandas as pd\n",
    "import matplotlib.pyplot as plt\n",
    "import glob\n",
    "from sklearn.neural_network import MLPClassifier\n",
    "from sklearn.metrics import confusion_matrix, accuracy_score, recall_score, precision_score, f1_score\n",
    "from sklearn.preprocessing import LabelBinarizer, LabelEncoder\n",
    "from sklearn.model_selection import train_test_split\n",
    "from sklearn.impute import SimpleImputer\n",
    "from sklearn.ensemble import AdaBoostClassifier, GradientBoostingClassifier\n",
    "from sklearn.linear_model import LogisticRegression\n",
    "from tqdm import tqdm\n",
    "import seaborn as sns\n",
    "from joblib import dump\n",
    "%matplotlib inline"
   ]
  },
  {
   "cell_type": "code",
   "execution_count": 15,
   "metadata": {
    "colab": {
     "base_uri": "https://localhost:8080/"
    },
    "id": "1aJPB5YZYi3D",
    "outputId": "284747c7-eea1-4227-b5af-968b4abe381f"
   },
   "outputs": [
    {
     "name": "stdout",
     "output_type": "stream",
     "text": [
      "AdaBoost:\n",
      "Accuracy: 59.69023009067067\n",
      "Recall: 59.69023009067067\n",
      "Precision: 98.83970956103856\n",
      "F1 Score: 71.47361884510947\n",
      "******************************************\n"
     ]
    }
   ],
   "source": [
    "# AdaBoost Model\n",
    "template = DecisionTreeClassifier(max_depth=5)\n",
    "classificationEnsemble = AdaBoostClassifier(estimator=template, n_estimators=100, learning_rate=0.1)\n",
    "classificationEnsemble.fit(X_train, y_train)\n",
    "y_pred = classificationEnsemble.predict(X_test)\n",
    "\n",
    "# Calculate metrics\n",
    "Accuracy = accuracy_score(y_test, y_pred)\n",
    "recall = recall_score(y_test, y_pred, average='weighted')  \n",
    "precision = precision_score(y_test, y_pred, average='weighted')  \n",
    "f1 = f1_score(y_test, y_pred, average='weighted') \n",
    "\n",
    "# Print results\n",
    "print('AdaBoost:')\n",
    "print('Accuracy:', Accuracy * 100)\n",
    "print('Recall:', recall * 100)\n",
    "print('Precision:', precision * 100)\n",
    "print('F1 Score:', f1 * 100)\n",
    "print('******************************************')"
   ]
  },
  {
   "cell_type": "code",
   "execution_count": 17,
   "metadata": {
    "colab": {
     "base_uri": "https://localhost:8080/",
     "height": 228
    },
    "id": "wIVNiRq8VokT",
    "outputId": "d933bba4-3a0a-4cfc-826c-f0624c9d4634"
   },
   "outputs": [
    {
     "name": "stdout",
     "output_type": "stream",
     "text": [
      "Adaboost Classifier:\n",
      "Accuracy: 59.69%\n",
      "Recall: 59.69%\n",
      "Precision: 98.84%\n",
      "F1 Score: 71.47%\n"
     ]
    }
   ],
   "source": [
    "# Print metrics\n",
    "print('Adaboost Classifier:')\n",
    "print(f'Accuracy: {Accuracy * 100:.2f}%')\n",
    "print(f'Recall: {recall * 100:.2f}%')\n",
    "print(f'Precision: {precision * 100:.2f}%')\n",
    "print(f'F1 Score: {f1 * 100:.2f}%')"
   ]
  },
  {
   "cell_type": "code",
   "execution_count": 19,
   "metadata": {
    "id": "2qgt8Mj9UgZb"
   },
   "outputs": [
    {
     "data": {
      "image/png": "[encoded data removed]",
      "text/plain": [
       "<Figure size 1000x500 with 1 Axes>"
      ]
     },
     "metadata": {},
     "output_type": "display_data"
    }
   ],
   "source": [
    "# Plot the metrics\n",
    "metrics = {'Accuracy': Accuracy, 'Recall': recall, 'Precision': precision, 'F1 Score': f1}\n",
    "plt.figure(figsize=(10, 5))\n",
    "plt.bar(metrics.keys(), [v * 100 for v in metrics.values()], color=['blue', 'green', 'orange', 'red'])\n",
    "plt.ylabel('Percentage')\n",
    "plt.title('Adaboost Model Performance Metrics')\n",
    "plt.show()\n"
   ]
  },
  {
   "cell_type": "code",
   "execution_count": 22,
   "metadata": {},
   "outputs": [
    {
     "data": {
      "image/png": "[encoded data removed]",
      "text/plain": [
       "<Figure size 800x600 with 1 Axes>"
      ]
     },
     "metadata": {},
     "output_type": "display_data"
    }
   ],
   "source": [
    "# Confusion Matrix for AdaBoost\n",
    "\n",
    "conf_matrix = confusion_matrix(y_test, y_pred)\n",
    "plt.figure(figsize=(8, 6))\n",
    "sns.heatmap(conf_matrix, annot=True, fmt='d', cmap='Blues', cbar=False)\n",
    "plt.xlabel('Predicted Label')\n",
    "plt.ylabel('True Label')\n",
    "plt.title('Confusion Matrix (AdaBoost)')\n",
    "plt.show()"
   ]
  },
  {
   "cell_type": "code",
   "execution_count": 25,
   "metadata": {},
   "outputs": [
    {
     "data": {
      "text/plain": [
       "['adaboost_sub_model.joblib']"
      ]
     },
     "execution_count": 25,
     "metadata": {},
     "output_type": "execute_result"
    }
   ],
   "source": [
    "# Save the MLP Model:\n",
    "dump(classificationEnsemble, 'adaboost_sub_model.joblib')"
   ]
  }
 ],
 "metadata": {
  "accelerator": "GPU",
  "colab": {
   "gpuType": "T4",
   "provenance": []
  },
  "kernelspec": {
   "display_name": "Python 3 (ipykernel)",
   "language": "python",
   "name": "python3"
  },
  "language_info": {
   "codemirror_mode": {
    "name": "ipython",
    "version": 3
   },
   "file_extension": ".py",
   "mimetype": "text/x-python",
   "name": "python",
   "nbconvert_exporter": "python",
   "pygments_lexer": "ipython3",
   "version": "3.11.5"
  }
 },
 "nbformat": 4,
 "nbformat_minor": 1
}
