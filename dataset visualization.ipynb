{
 "cells": [
  {
   "cell_type": "markdown",
   "id": "8fcef02c",
   "metadata": {},
   "source": [
    "# Dataset Visualization "
   ]
  },
  {
   "cell_type": "code",
   "execution_count": 1,
   "id": "34afac8b",
   "metadata": {},
   "outputs": [],
   "source": [
    "import pandas as pd\n",
    "import matplotlib.pyplot as plt\n",
    "import glob\n",
    "from sklearn.preprocessing import LabelEncoder, StandardScaler\n",
    "from sklearn.model_selection import train_test_split\n",
    "from sklearn.impute import SimpleImputer\n",
    "import seaborn as sns\n",
    "from tqdm import tqdm\n"
   ]
  },
  {
   "cell_type": "code",
   "execution_count": 2,
   "id": "0ab49578",
   "metadata": {},
   "outputs": [],
   "source": [
    "%matplotlib inline"
   ]
  },
  {
   "cell_type": "code",
   "execution_count": 3,
   "id": "58e607cd",
   "metadata": {},
   "outputs": [],
   "source": [
    "# Update the local folder path where we have stored your dataset files\n",
    "folder_path = 'dataset'\n",
    "file_paths = glob.glob(folder_path + '/*.csv')\n"
   ]
  },
  {
   "cell_type": "code",
   "execution_count": 4,
   "id": "fd4b8a6f",
   "metadata": {},
   "outputs": [
    {
     "name": "stderr",
     "output_type": "stream",
     "text": [
      "Processing files: 100%|██████████████████████████████████████████████████████████████| 35/35 [01:24<00:00,  2.40s/file]\n"
     ]
    },
    {
     "data": {
      "text/html": [
       "<div>\n",
       "<style scoped>\n",
       "    .dataframe tbody tr th:only-of-type {\n",
       "        vertical-align: middle;\n",
       "    }\n",
       "\n",
       "    .dataframe tbody tr th {\n",
       "        vertical-align: top;\n",
       "    }\n",
       "\n",
       "    .dataframe thead th {\n",
       "        text-align: right;\n",
       "    }\n",
       "</style>\n",
       "<table border=\"1\" class=\"dataframe\">\n",
       "  <thead>\n",
       "    <tr style=\"text-align: right;\">\n",
       "      <th></th>\n",
       "      <th>flow_duration</th>\n",
       "      <th>Header_Length</th>\n",
       "      <th>Protocol Type</th>\n",
       "      <th>Duration</th>\n",
       "      <th>Rate</th>\n",
       "      <th>Srate</th>\n",
       "      <th>Drate</th>\n",
       "      <th>fin_flag_number</th>\n",
       "      <th>syn_flag_number</th>\n",
       "      <th>rst_flag_number</th>\n",
       "      <th>...</th>\n",
       "      <th>Std</th>\n",
       "      <th>Tot size</th>\n",
       "      <th>IAT</th>\n",
       "      <th>Number</th>\n",
       "      <th>Magnitue</th>\n",
       "      <th>Radius</th>\n",
       "      <th>Covariance</th>\n",
       "      <th>Variance</th>\n",
       "      <th>Weight</th>\n",
       "      <th>label</th>\n",
       "    </tr>\n",
       "  </thead>\n",
       "  <tbody>\n",
       "    <tr>\n",
       "      <th>0</th>\n",
       "      <td>0.000000</td>\n",
       "      <td>54.00</td>\n",
       "      <td>6.00</td>\n",
       "      <td>64.00</td>\n",
       "      <td>0.329807</td>\n",
       "      <td>0.329807</td>\n",
       "      <td>0.0</td>\n",
       "      <td>1.0</td>\n",
       "      <td>0.0</td>\n",
       "      <td>1.0</td>\n",
       "      <td>...</td>\n",
       "      <td>0.000000</td>\n",
       "      <td>54.00</td>\n",
       "      <td>8.334383e+07</td>\n",
       "      <td>9.5</td>\n",
       "      <td>10.392305</td>\n",
       "      <td>0.000000</td>\n",
       "      <td>0.000000</td>\n",
       "      <td>0.00</td>\n",
       "      <td>141.55</td>\n",
       "      <td>DDoS-RSTFINFlood</td>\n",
       "    </tr>\n",
       "    <tr>\n",
       "      <th>1</th>\n",
       "      <td>0.000000</td>\n",
       "      <td>57.04</td>\n",
       "      <td>6.33</td>\n",
       "      <td>64.00</td>\n",
       "      <td>4.290556</td>\n",
       "      <td>4.290556</td>\n",
       "      <td>0.0</td>\n",
       "      <td>0.0</td>\n",
       "      <td>0.0</td>\n",
       "      <td>0.0</td>\n",
       "      <td>...</td>\n",
       "      <td>2.822973</td>\n",
       "      <td>57.04</td>\n",
       "      <td>8.292607e+07</td>\n",
       "      <td>9.5</td>\n",
       "      <td>10.464666</td>\n",
       "      <td>4.010353</td>\n",
       "      <td>160.987842</td>\n",
       "      <td>0.05</td>\n",
       "      <td>141.55</td>\n",
       "      <td>DoS-TCP_Flood</td>\n",
       "    </tr>\n",
       "    <tr>\n",
       "      <th>2</th>\n",
       "      <td>0.000000</td>\n",
       "      <td>0.00</td>\n",
       "      <td>1.00</td>\n",
       "      <td>64.00</td>\n",
       "      <td>33.396799</td>\n",
       "      <td>33.396799</td>\n",
       "      <td>0.0</td>\n",
       "      <td>0.0</td>\n",
       "      <td>0.0</td>\n",
       "      <td>0.0</td>\n",
       "      <td>...</td>\n",
       "      <td>0.000000</td>\n",
       "      <td>42.00</td>\n",
       "      <td>8.312799e+07</td>\n",
       "      <td>9.5</td>\n",
       "      <td>9.165151</td>\n",
       "      <td>0.000000</td>\n",
       "      <td>0.000000</td>\n",
       "      <td>0.00</td>\n",
       "      <td>141.55</td>\n",
       "      <td>DDoS-ICMP_Flood</td>\n",
       "    </tr>\n",
       "    <tr>\n",
       "      <th>3</th>\n",
       "      <td>0.328175</td>\n",
       "      <td>76175.00</td>\n",
       "      <td>17.00</td>\n",
       "      <td>64.00</td>\n",
       "      <td>4642.133010</td>\n",
       "      <td>4642.133010</td>\n",
       "      <td>0.0</td>\n",
       "      <td>0.0</td>\n",
       "      <td>0.0</td>\n",
       "      <td>0.0</td>\n",
       "      <td>...</td>\n",
       "      <td>0.000000</td>\n",
       "      <td>50.00</td>\n",
       "      <td>8.301570e+07</td>\n",
       "      <td>9.5</td>\n",
       "      <td>10.000000</td>\n",
       "      <td>0.000000</td>\n",
       "      <td>0.000000</td>\n",
       "      <td>0.00</td>\n",
       "      <td>141.55</td>\n",
       "      <td>DoS-UDP_Flood</td>\n",
       "    </tr>\n",
       "    <tr>\n",
       "      <th>4</th>\n",
       "      <td>0.117320</td>\n",
       "      <td>101.73</td>\n",
       "      <td>6.11</td>\n",
       "      <td>65.91</td>\n",
       "      <td>6.202211</td>\n",
       "      <td>6.202211</td>\n",
       "      <td>0.0</td>\n",
       "      <td>0.0</td>\n",
       "      <td>1.0</td>\n",
       "      <td>0.0</td>\n",
       "      <td>...</td>\n",
       "      <td>23.113111</td>\n",
       "      <td>57.88</td>\n",
       "      <td>8.297300e+07</td>\n",
       "      <td>9.5</td>\n",
       "      <td>11.346876</td>\n",
       "      <td>32.716243</td>\n",
       "      <td>3016.808286</td>\n",
       "      <td>0.19</td>\n",
       "      <td>141.55</td>\n",
       "      <td>DoS-SYN_Flood</td>\n",
       "    </tr>\n",
       "  </tbody>\n",
       "</table>\n",
       "<p>5 rows × 47 columns</p>\n",
       "</div>"
      ],
      "text/plain": [
       "   flow_duration  Header_Length  Protocol Type  Duration         Rate  \\\n",
       "0       0.000000          54.00           6.00     64.00     0.329807   \n",
       "1       0.000000          57.04           6.33     64.00     4.290556   \n",
       "2       0.000000           0.00           1.00     64.00    33.396799   \n",
       "3       0.328175       76175.00          17.00     64.00  4642.133010   \n",
       "4       0.117320         101.73           6.11     65.91     6.202211   \n",
       "\n",
       "         Srate  Drate  fin_flag_number  syn_flag_number  rst_flag_number  ...  \\\n",
       "0     0.329807    0.0              1.0              0.0              1.0  ...   \n",
       "1     4.290556    0.0              0.0              0.0              0.0  ...   \n",
       "2    33.396799    0.0              0.0              0.0              0.0  ...   \n",
       "3  4642.133010    0.0              0.0              0.0              0.0  ...   \n",
       "4     6.202211    0.0              0.0              1.0              0.0  ...   \n",
       "\n",
       "         Std  Tot size           IAT  Number   Magnitue     Radius  \\\n",
       "0   0.000000     54.00  8.334383e+07     9.5  10.392305   0.000000   \n",
       "1   2.822973     57.04  8.292607e+07     9.5  10.464666   4.010353   \n",
       "2   0.000000     42.00  8.312799e+07     9.5   9.165151   0.000000   \n",
       "3   0.000000     50.00  8.301570e+07     9.5  10.000000   0.000000   \n",
       "4  23.113111     57.88  8.297300e+07     9.5  11.346876  32.716243   \n",
       "\n",
       "    Covariance  Variance  Weight             label  \n",
       "0     0.000000      0.00  141.55  DDoS-RSTFINFlood  \n",
       "1   160.987842      0.05  141.55     DoS-TCP_Flood  \n",
       "2     0.000000      0.00  141.55   DDoS-ICMP_Flood  \n",
       "3     0.000000      0.00  141.55     DoS-UDP_Flood  \n",
       "4  3016.808286      0.19  141.55     DoS-SYN_Flood  \n",
       "\n",
       "[5 rows x 47 columns]"
      ]
     },
     "execution_count": 4,
     "metadata": {},
     "output_type": "execute_result"
    }
   ],
   "source": [
    "df = pd.DataFrame()\n",
    "for file_path in tqdm(file_paths, desc='Processing files', unit='file'):\n",
    "    dff = pd.read_csv(file_path)\n",
    "    df = pd.concat([df, dff], ignore_index=True)\n",
    "\n",
    "# Display the first few rows of the DataFrame\n",
    "df.head()"
   ]
  },
  {
   "cell_type": "code",
   "execution_count": 5,
   "id": "034a6f7d",
   "metadata": {},
   "outputs": [
    {
     "name": "stdout",
     "output_type": "stream",
     "text": [
      "(8706783, 47)\n"
     ]
    }
   ],
   "source": [
    "# Display basic information about the DataFrame\n",
    "print(df.shape)"
   ]
  },
  {
   "cell_type": "code",
   "execution_count": 6,
   "id": "cfab15be",
   "metadata": {},
   "outputs": [
    {
     "name": "stdout",
     "output_type": "stream",
     "text": [
      "   flow_duration  Header_Length  Protocol Type  Duration         Rate  \\\n",
      "0       0.000000          54.00           6.00     64.00     0.329807   \n",
      "1       0.000000          57.04           6.33     64.00     4.290556   \n",
      "2       0.000000           0.00           1.00     64.00    33.396799   \n",
      "3       0.328175       76175.00          17.00     64.00  4642.133010   \n",
      "4       0.117320         101.73           6.11     65.91     6.202211   \n",
      "\n",
      "         Srate  Drate  fin_flag_number  syn_flag_number  rst_flag_number  ...  \\\n",
      "0     0.329807    0.0              1.0              0.0              1.0  ...   \n",
      "1     4.290556    0.0              0.0              0.0              0.0  ...   \n",
      "2    33.396799    0.0              0.0              0.0              0.0  ...   \n",
      "3  4642.133010    0.0              0.0              0.0              0.0  ...   \n",
      "4     6.202211    0.0              0.0              1.0              0.0  ...   \n",
      "\n",
      "         Std  Tot size           IAT  Number   Magnitue     Radius  \\\n",
      "0   0.000000     54.00  8.334383e+07     9.5  10.392305   0.000000   \n",
      "1   2.822973     57.04  8.292607e+07     9.5  10.464666   4.010353   \n",
      "2   0.000000     42.00  8.312799e+07     9.5   9.165151   0.000000   \n",
      "3   0.000000     50.00  8.301570e+07     9.5  10.000000   0.000000   \n",
      "4  23.113111     57.88  8.297300e+07     9.5  11.346876  32.716243   \n",
      "\n",
      "    Covariance  Variance  Weight             label  \n",
      "0     0.000000      0.00  141.55  DDoS-RSTFINFlood  \n",
      "1   160.987842      0.05  141.55     DoS-TCP_Flood  \n",
      "2     0.000000      0.00  141.55   DDoS-ICMP_Flood  \n",
      "3     0.000000      0.00  141.55     DoS-UDP_Flood  \n",
      "4  3016.808286      0.19  141.55     DoS-SYN_Flood  \n",
      "\n",
      "[5 rows x 47 columns]\n"
     ]
    }
   ],
   "source": [
    "print(df.head())"
   ]
  },
  {
   "cell_type": "code",
   "execution_count": 7,
   "id": "3d0aed66",
   "metadata": {},
   "outputs": [
    {
     "name": "stdout",
     "output_type": "stream",
     "text": [
      "         flow_duration  Header_Length  Protocol Type  Duration          Rate  \\\n",
      "8706778      71.960989     5346325.30           6.00     64.00     68.530186   \n",
      "8706779       0.053804       26845.00          17.00     64.00  10248.904538   \n",
      "8706780       0.000000           0.00          47.00     64.00     88.148964   \n",
      "8706781       0.020690         112.00           6.00     45.90     96.677568   \n",
      "8706782       0.000014           8.16           1.79     67.82    225.294038   \n",
      "\n",
      "                Srate  Drate  fin_flag_number  syn_flag_number  \\\n",
      "8706778     68.530186    0.0              0.0              0.0   \n",
      "8706779  10248.904538    0.0              0.0              0.0   \n",
      "8706780     88.148964    0.0              0.0              0.0   \n",
      "8706781     96.677568    0.0              0.0              1.0   \n",
      "8706782    225.294038    0.0              0.0              0.0   \n",
      "\n",
      "         rst_flag_number  ...         Std  Tot size           IAT  Number  \\\n",
      "8706778              0.0  ...  865.370670   1996.90  1.665207e+08    13.5   \n",
      "8706779              0.0  ...    0.000000     50.00  8.310670e+07     9.5   \n",
      "8706780              0.0  ...    0.000000    592.00  8.368114e+07     9.5   \n",
      "8706781              0.0  ...    0.000000     58.00  3.099442e-06     5.5   \n",
      "8706782              0.0  ...   12.681459     47.35  8.312771e+07     9.5   \n",
      "\n",
      "          Magnitue       Radius     Covariance  Variance  Weight  \\\n",
      "8706778  38.443741  1216.087025  794042.542066      1.00  244.60   \n",
      "8706779  10.000000     0.000000       0.000000      0.00  141.55   \n",
      "8706780  34.409301     0.000000       0.000000      0.00  141.55   \n",
      "8706781  10.770330     0.000000       0.000000      0.00   38.50   \n",
      "8706782   9.958756    17.966159     579.983478      0.34  141.55   \n",
      "\n",
      "                      label  \n",
      "8706778       BenignTraffic  \n",
      "8706779      DDoS-UDP_Flood  \n",
      "8706780  Mirai-greeth_flood  \n",
      "8706781        Recon-OSScan  \n",
      "8706782     DDoS-ICMP_Flood  \n",
      "\n",
      "[5 rows x 47 columns]\n"
     ]
    }
   ],
   "source": [
    "print(df.tail())"
   ]
  },
  {
   "cell_type": "code",
   "execution_count": 8,
   "id": "5d4365a5",
   "metadata": {},
   "outputs": [
    {
     "name": "stdout",
     "output_type": "stream",
     "text": [
      "Index(['flow_duration', 'Header_Length', 'Protocol Type', 'Duration', 'Rate',\n",
      "       'Srate', 'Drate', 'fin_flag_number', 'syn_flag_number',\n",
      "       'rst_flag_number', 'psh_flag_number', 'ack_flag_number',\n",
      "       'ece_flag_number', 'cwr_flag_number', 'ack_count', 'syn_count',\n",
      "       'fin_count', 'urg_count', 'rst_count', 'HTTP', 'HTTPS', 'DNS', 'Telnet',\n",
      "       'SMTP', 'SSH', 'IRC', 'TCP', 'UDP', 'DHCP', 'ARP', 'ICMP', 'IPv', 'LLC',\n",
      "       'Tot sum', 'Min', 'Max', 'AVG', 'Std', 'Tot size', 'IAT', 'Number',\n",
      "       'Magnitue', 'Radius', 'Covariance', 'Variance', 'Weight', 'label'],\n",
      "      dtype='object')\n"
     ]
    }
   ],
   "source": [
    "#printing features\n",
    "print(df.keys())\n"
   ]
  },
  {
   "cell_type": "code",
   "execution_count": 9,
   "id": "286ef65c",
   "metadata": {},
   "outputs": [
    {
     "name": "stdout",
     "output_type": "stream",
     "text": [
      "<class 'pandas.core.frame.DataFrame'>\n",
      "RangeIndex: 8706783 entries, 0 to 8706782\n",
      "Data columns (total 47 columns):\n",
      " #   Column           Dtype  \n",
      "---  ------           -----  \n",
      " 0   flow_duration    float64\n",
      " 1   Header_Length    float64\n",
      " 2   Protocol Type    float64\n",
      " 3   Duration         float64\n",
      " 4   Rate             float64\n",
      " 5   Srate            float64\n",
      " 6   Drate            float64\n",
      " 7   fin_flag_number  float64\n",
      " 8   syn_flag_number  float64\n",
      " 9   rst_flag_number  float64\n",
      " 10  psh_flag_number  float64\n",
      " 11  ack_flag_number  float64\n",
      " 12  ece_flag_number  float64\n",
      " 13  cwr_flag_number  float64\n",
      " 14  ack_count        float64\n",
      " 15  syn_count        float64\n",
      " 16  fin_count        float64\n",
      " 17  urg_count        float64\n",
      " 18  rst_count        float64\n",
      " 19  HTTP             float64\n",
      " 20  HTTPS            float64\n",
      " 21  DNS              float64\n",
      " 22  Telnet           float64\n",
      " 23  SMTP             float64\n",
      " 24  SSH              float64\n",
      " 25  IRC              float64\n",
      " 26  TCP              float64\n",
      " 27  UDP              float64\n",
      " 28  DHCP             float64\n",
      " 29  ARP              float64\n",
      " 30  ICMP             float64\n",
      " 31  IPv              float64\n",
      " 32  LLC              float64\n",
      " 33  Tot sum          float64\n",
      " 34  Min              float64\n",
      " 35  Max              float64\n",
      " 36  AVG              float64\n",
      " 37  Std              float64\n",
      " 38  Tot size         float64\n",
      " 39  IAT              float64\n",
      " 40  Number           float64\n",
      " 41  Magnitue         float64\n",
      " 42  Radius           float64\n",
      " 43  Covariance       float64\n",
      " 44  Variance         float64\n",
      " 45  Weight           float64\n",
      " 46  label            object \n",
      "dtypes: float64(46), object(1)\n",
      "memory usage: 3.0+ GB\n",
      "None\n"
     ]
    }
   ],
   "source": [
    "#memory usage and the T.number of entries\n",
    "print(df.info())"
   ]
  },
  {
   "cell_type": "code",
   "execution_count": 10,
   "id": "e8a5204e",
   "metadata": {},
   "outputs": [
    {
     "data": {
      "text/plain": [
       "[]"
      ]
     },
     "execution_count": 10,
     "metadata": {},
     "output_type": "execute_result"
    }
   ],
   "source": [
    "[features for features in df.columns if df[features].isnull().sum()>0]"
   ]
  },
  {
   "cell_type": "code",
   "execution_count": 11,
   "id": "89fe5d54",
   "metadata": {},
   "outputs": [
    {
     "name": "stdout",
     "output_type": "stream",
     "text": [
      "34\n"
     ]
    }
   ],
   "source": [
    "print(df['label'].nunique())"
   ]
  },
  {
   "cell_type": "code",
   "execution_count": 12,
   "id": "9e796bc2",
   "metadata": {},
   "outputs": [
    {
     "name": "stdout",
     "output_type": "stream",
     "text": [
      "['DDoS-RSTFINFlood' 'DoS-TCP_Flood' 'DDoS-ICMP_Flood' 'DoS-UDP_Flood'\n",
      " 'DoS-SYN_Flood' 'Mirai-greeth_flood' 'DDoS-SynonymousIP_Flood'\n",
      " 'Mirai-udpplain' 'DDoS-SYN_Flood' 'DDoS-PSHACK_Flood' 'DDoS-TCP_Flood'\n",
      " 'DDoS-UDP_Flood' 'BenignTraffic' 'MITM-ArpSpoofing'\n",
      " 'DDoS-ACK_Fragmentation' 'Mirai-greip_flood' 'DoS-HTTP_Flood'\n",
      " 'DDoS-ICMP_Fragmentation' 'Recon-PortScan' 'DNS_Spoofing'\n",
      " 'DDoS-UDP_Fragmentation' 'Recon-OSScan' 'XSS' 'DDoS-HTTP_Flood'\n",
      " 'Recon-HostDiscovery' 'CommandInjection' 'VulnerabilityScan'\n",
      " 'DDoS-SlowLoris' 'Backdoor_Malware' 'BrowserHijacking'\n",
      " 'DictionaryBruteForce' 'SqlInjection' 'Recon-PingSweep'\n",
      " 'Uploading_Attack']\n"
     ]
    }
   ],
   "source": [
    "print(df['label'].unique())"
   ]
  },
  {
   "cell_type": "code",
   "execution_count": 13,
   "id": "1b045fcc",
   "metadata": {},
   "outputs": [
    {
     "data": {
      "text/plain": [
       "label\n",
       "DDoS-ICMP_Flood            1343257\n",
       "DDoS-UDP_Flood             1010641\n",
       "DDoS-TCP_Flood              839446\n",
       "DDoS-PSHACK_Flood           763443\n",
       "DDoS-SYN_Flood              757328\n",
       "DDoS-RSTFINFlood            753657\n",
       "DDoS-SynonymousIP_Flood     669686\n",
       "DoS-UDP_Flood               618696\n",
       "DoS-TCP_Flood               498357\n",
       "DoS-SYN_Flood               376975\n",
       "BenignTraffic               205116\n",
       "Mirai-greeth_flood          184361\n",
       "Mirai-udpplain              166386\n",
       "Mirai-greip_flood           140681\n",
       "DDoS-ICMP_Fragmentation      84273\n",
       "MITM-ArpSpoofing             57612\n",
       "DDoS-UDP_Fragmentation       53846\n",
       "DDoS-ACK_Fragmentation       53402\n",
       "DNS_Spoofing                 33527\n",
       "Recon-HostDiscovery          24900\n",
       "Recon-OSScan                 18297\n",
       "Recon-PortScan               15264\n",
       "DoS-HTTP_Flood               13448\n",
       "VulnerabilityScan             6978\n",
       "DDoS-HTTP_Flood               5406\n",
       "DDoS-SlowLoris                4432\n",
       "DictionaryBruteForce          2399\n",
       "BrowserHijacking              1062\n",
       "SqlInjection                   997\n",
       "CommandInjection               977\n",
       "XSS                            675\n",
       "Backdoor_Malware               637\n",
       "Recon-PingSweep                388\n",
       "Uploading_Attack               233\n",
       "Name: count, dtype: int64"
      ]
     },
     "execution_count": 13,
     "metadata": {},
     "output_type": "execute_result"
    }
   ],
   "source": [
    "df['label'].value_counts()"
   ]
  },
  {
   "cell_type": "code",
   "execution_count": 14,
   "id": "12332779",
   "metadata": {
    "scrolled": false
   },
   "outputs": [
    {
     "name": "stdout",
     "output_type": "stream",
     "text": [
      "<class 'pandas.core.frame.DataFrame'>\n",
      "RangeIndex: 8706783 entries, 0 to 8706782\n",
      "Data columns (total 47 columns):\n",
      " #   Column           Dtype  \n",
      "---  ------           -----  \n",
      " 0   flow_duration    float64\n",
      " 1   Header_Length    float64\n",
      " 2   Protocol Type    float64\n",
      " 3   Duration         float64\n",
      " 4   Rate             float64\n",
      " 5   Srate            float64\n",
      " 6   Drate            float64\n",
      " 7   fin_flag_number  float64\n",
      " 8   syn_flag_number  float64\n",
      " 9   rst_flag_number  float64\n",
      " 10  psh_flag_number  float64\n",
      " 11  ack_flag_number  float64\n",
      " 12  ece_flag_number  float64\n",
      " 13  cwr_flag_number  float64\n",
      " 14  ack_count        float64\n",
      " 15  syn_count        float64\n",
      " 16  fin_count        float64\n",
      " 17  urg_count        float64\n",
      " 18  rst_count        float64\n",
      " 19  HTTP             float64\n",
      " 20  HTTPS            float64\n",
      " 21  DNS              float64\n",
      " 22  Telnet           float64\n",
      " 23  SMTP             float64\n",
      " 24  SSH              float64\n",
      " 25  IRC              float64\n",
      " 26  TCP              float64\n",
      " 27  UDP              float64\n",
      " 28  DHCP             float64\n",
      " 29  ARP              float64\n",
      " 30  ICMP             float64\n",
      " 31  IPv              float64\n",
      " 32  LLC              float64\n",
      " 33  Tot sum          float64\n",
      " 34  Min              float64\n",
      " 35  Max              float64\n",
      " 36  AVG              float64\n",
      " 37  Std              float64\n",
      " 38  Tot size         float64\n",
      " 39  IAT              float64\n",
      " 40  Number           float64\n",
      " 41  Magnitue         float64\n",
      " 42  Radius           float64\n",
      " 43  Covariance       float64\n",
      " 44  Variance         float64\n",
      " 45  Weight           float64\n",
      " 46  label            object \n",
      "dtypes: float64(46), object(1)\n",
      "memory usage: 3.0+ GB\n"
     ]
    }
   ],
   "source": [
    "df.info()"
   ]
  },
  {
   "cell_type": "code",
   "execution_count": 15,
   "id": "427ebbbc",
   "metadata": {},
   "outputs": [],
   "source": [
    "# Sub-class Mapping , classify each attack separately by their family\n",
    "mapping = {\n",
    "    'DDoS-ICMP_Flood': 'DDoS',\n",
    "    'DDoS-UDP_Flood': 'DDoS',\n",
    "    'DDoS-TCP_Flood': 'DDoS',\n",
    "    'DDoS-PSHACK_Flood': 'DDoS',\n",
    "    'DDoS-SYN_Flood': 'DDoS',\n",
    "    'DDoS-RSTFINFlood': 'DDoS',\n",
    "    'DDoS-SynonymousIP_Flood': 'DDoS',\n",
    "    'DoS-UDP_Flood': 'DoS',\n",
    "    'DoS-TCP_Flood': 'DoS',\n",
    "    'DoS-SYN_Flood': 'DoS',\n",
    "    'BenignTraffic': 'Benign',\n",
    "    'Mirai-greeth_flood': 'Mirai',\n",
    "    'Mirai-udpplain': 'Mirai',\n",
    "    'Mirai-greip_flood': 'Mirai',\n",
    "    'DDoS-ICMP_Fragmentation': 'DDoS',\n",
    "    'MITM-ArpSpoofing': 'MITM',\n",
    "    'DDoS-UDP_Fragmentation': 'DDoS',\n",
    "    'DDoS-ACK_Fragmentation': 'DDoS',\n",
    "    'DNS_Spoofing': 'Spoofing',\n",
    "    'Recon-HostDiscovery': 'Recon',\n",
    "    'Recon-OSScan': 'Recon',\n",
    "    'Recon-PortScan': 'Recon',\n",
    "    'DoS-HTTP_Flood': 'DoS',\n",
    "    'VulnerabilityScan': 'Recon',\n",
    "    'DDoS-HTTP_Flood': 'DDoS',\n",
    "    'DDoS-SlowLoris': 'DDoS',\n",
    "    'DictionaryBruteForce': 'BruteForce',\n",
    "    'BrowserHijacking': 'Hijacking',\n",
    "    'CommandInjection': 'Injection',\n",
    "    'SqlInjection': 'Injection',\n",
    "    'XSS': 'XSS',\n",
    "    'Backdoor_Malware': 'Malware',\n",
    "    'Recon-PingSweep': 'Recon',\n",
    "    'Uploading_Attack': 'Upload'\n",
    "}"
   ]
  },
  {
   "cell_type": "code",
   "execution_count": 16,
   "id": "eb208b70",
   "metadata": {},
   "outputs": [],
   "source": [
    "df['label'] = df['label'].map(mapping)"
   ]
  },
  {
   "cell_type": "code",
   "execution_count": 17,
   "id": "93dffe4f",
   "metadata": {},
   "outputs": [
    {
     "data": {
      "text/plain": [
       "label\n",
       "1    8501667\n",
       "0     205116\n",
       "Name: count, dtype: int64"
      ]
     },
     "execution_count": 17,
     "metadata": {},
     "output_type": "execute_result"
    }
   ],
   "source": [
    "df['label'].value_counts()"
   ]
  },
  {
   "cell_type": "code",
   "execution_count": 18,
   "id": "ce1f82ed",
   "metadata": {},
   "outputs": [
    {
     "name": "stdout",
     "output_type": "stream",
     "text": [
      "<class 'pandas.core.frame.DataFrame'>\n",
      "RangeIndex: 8706783 entries, 0 to 8706782\n",
      "Data columns (total 47 columns):\n",
      " #   Column           Dtype  \n",
      "---  ------           -----  \n",
      " 0   flow_duration    float64\n",
      " 1   Header_Length    float64\n",
      " 2   Protocol Type    float64\n",
      " 3   Duration         float64\n",
      " 4   Rate             float64\n",
      " 5   Srate            float64\n",
      " 6   Drate            float64\n",
      " 7   fin_flag_number  float64\n",
      " 8   syn_flag_number  float64\n",
      " 9   rst_flag_number  float64\n",
      " 10  psh_flag_number  float64\n",
      " 11  ack_flag_number  float64\n",
      " 12  ece_flag_number  float64\n",
      " 13  cwr_flag_number  float64\n",
      " 14  ack_count        float64\n",
      " 15  syn_count        float64\n",
      " 16  fin_count        float64\n",
      " 17  urg_count        float64\n",
      " 18  rst_count        float64\n",
      " 19  HTTP             float64\n",
      " 20  HTTPS            float64\n",
      " 21  DNS              float64\n",
      " 22  Telnet           float64\n",
      " 23  SMTP             float64\n",
      " 24  SSH              float64\n",
      " 25  IRC              float64\n",
      " 26  TCP              float64\n",
      " 27  UDP              float64\n",
      " 28  DHCP             float64\n",
      " 29  ARP              float64\n",
      " 30  ICMP             float64\n",
      " 31  IPv              float64\n",
      " 32  LLC              float64\n",
      " 33  Tot sum          float64\n",
      " 34  Min              float64\n",
      " 35  Max              float64\n",
      " 36  AVG              float64\n",
      " 37  Std              float64\n",
      " 38  Tot size         float64\n",
      " 39  IAT              float64\n",
      " 40  Number           float64\n",
      " 41  Magnitue         float64\n",
      " 42  Radius           float64\n",
      " 43  Covariance       float64\n",
      " 44  Variance         float64\n",
      " 45  Weight           float64\n",
      " 46  label            int64  \n",
      "dtypes: float64(46), int64(1)\n",
      "memory usage: 3.0 GB\n"
     ]
    }
   ],
   "source": [
    "df.info()"
   ]
  },
  {
   "cell_type": "code",
   "execution_count": 19,
   "id": "2606d9cf",
   "metadata": {},
   "outputs": [
    {
     "name": "stdout",
     "output_type": "stream",
     "text": [
      "Series([], dtype: int64)\n"
     ]
    }
   ],
   "source": [
    "# Checking for missing values\n",
    "missing_values = df.isnull().sum()\n",
    "print(missing_values[missing_values > 0])\n"
   ]
  },
  {
   "cell_type": "code",
   "execution_count": 20,
   "id": "1177ee8a",
   "metadata": {},
   "outputs": [],
   "source": [
    "# Handling missing values\n",
    "imputer = SimpleImputer(strategy='mean')\n",
    "df.iloc[:, :-1] = imputer.fit_transform(df.iloc[:, :-1])"
   ]
  },
  {
   "cell_type": "code",
   "execution_count": 21,
   "id": "905dc525",
   "metadata": {},
   "outputs": [],
   "source": [
    "# Scaling the features\n",
    "scaler = StandardScaler()\n",
    "df.iloc[:, :-1] = scaler.fit_transform(df.iloc[:, :-1])\n"
   ]
  },
  {
   "cell_type": "code",
   "execution_count": 22,
   "id": "14efc092",
   "metadata": {},
   "outputs": [
    {
     "data": {
      "image/png": "[encoded data removed]",
      "text/plain": [
       "<Figure size 1000x600 with 1 Axes>"
      ]
     },
     "metadata": {},
     "output_type": "display_data"
    }
   ],
   "source": [
    "# Visualizing the label distribution\n",
    "plt.figure(figsize=(10, 6))\n",
    "sns.countplot(x='label', data=df)\n",
    "plt.title('Distribution of Labels')\n",
    "plt.show()"
   ]
  },
  {
   "cell_type": "code",
   "execution_count": 23,
   "id": "7f43404d",
   "metadata": {},
   "outputs": [],
   "source": [
    "# Splitting the dataset into training and testing sets\n",
    "X = df.drop(columns='label')\n",
    "y = df['label']"
   ]
  },
  {
   "cell_type": "code",
   "execution_count": 24,
   "id": "c59eaa58",
   "metadata": {},
   "outputs": [],
   "source": [
    "X_train, X_test, y_train, y_test = train_test_split(X, y, test_size=0.2, random_state=42, stratify=y)\n"
   ]
  },
  {
   "cell_type": "code",
   "execution_count": 25,
   "id": "4497f320",
   "metadata": {},
   "outputs": [
    {
     "data": {
      "image/png": "[encoded data removed]",
      "text/plain": [
       "<Figure size 1200x800 with 2 Axes>"
      ]
     },
     "metadata": {},
     "output_type": "display_data"
    }
   ],
   "source": [
    "# Visualizing correlations between features\n",
    "plt.figure(figsize=(12, 8))\n",
    "correlation_matrix = df.corr()\n",
    "sns.heatmap(correlation_matrix, annot=False, cmap='coolwarm', linewidths=0.2)\n",
    "plt.title('Correlation Matrix')\n",
    "plt.show()"
   ]
  },
  {
   "cell_type": "code",
   "execution_count": 26,
   "id": "56ed0e1e",
   "metadata": {},
   "outputs": [
    {
     "name": "stdout",
     "output_type": "stream",
     "text": [
      "         flow_duration  Header_Length  Protocol Type  Duration      Rate  \\\n",
      "797429       -0.020428      -0.119464       0.862333 -0.167861 -0.046392   \n",
      "1007485      -0.021075      -0.166423      -0.342912 -0.049824 -0.090712   \n",
      "4156456      -0.021081      -0.166425      -0.342912 -0.167861 -0.090734   \n",
      "3807121      -0.020289      -0.102649       0.886930 -0.122353 -0.064807   \n",
      "1361388      -0.021081      -0.166425      -0.342912 -0.167861 -0.090718   \n",
      "\n",
      "            Srate     Drate  fin_flag_number  syn_flag_number  \\\n",
      "797429  -0.046392 -0.000697        -0.307699        -0.510975   \n",
      "1007485 -0.090712 -0.000697         3.249927        -0.510975   \n",
      "4156456 -0.090734 -0.000697        -0.307699         1.957044   \n",
      "3807121 -0.064807 -0.000697        -0.307699        -0.510975   \n",
      "1361388 -0.090718 -0.000697         3.249927        -0.510975   \n",
      "\n",
      "         rst_flag_number  ...       AVG       Std  Tot size       IAT  \\\n",
      "797429         -0.315310  ... -0.308731 -0.204098 -0.308059 -0.003829   \n",
      "1007485         3.171477  ... -0.292002 -0.202510 -0.292011  0.009092   \n",
      "4156456        -0.315310  ... -0.293257 -0.208181 -0.292838 -0.005868   \n",
      "3807121        -0.315310  ... -0.309359 -0.205217 -0.306446  0.017494   \n",
      "1361388         3.171477  ... -0.293257 -0.208181 -0.292838  0.008901   \n",
      "\n",
      "           Number  Magnitue    Radius  Covariance  Variance    Weight  \n",
      "797429   0.001492 -0.358982 -0.203927   -0.095047  0.100422  0.001411  \n",
      "1007485  0.001492 -0.313242 -0.202339   -0.095041  0.271950  0.001411  \n",
      "4156456  0.001492 -0.316588 -0.208016   -0.095058 -0.414162  0.001411  \n",
      "3807121  0.001492 -0.360714 -0.205029   -0.095034 -0.285516  0.001411  \n",
      "1361388  0.001492 -0.316588 -0.208016   -0.095058 -0.414162  0.001411  \n",
      "\n",
      "[5 rows x 46 columns]\n",
      "         flow_duration  Header_Length  Protocol Type  Duration       Rate  \\\n",
      "3466359      -0.021081      -0.166425      -0.342912 -0.167861  -0.090563   \n",
      "1027610      -0.021081      -0.166425      -0.342912 -0.167861  20.874866   \n",
      "8469760      -0.020761      -0.113171       0.886930 -0.167861   0.899909   \n",
      "2015100      -0.003357      -0.166308      -0.342912 -0.167861  -0.090740   \n",
      "7101312      -0.021081      -0.166425      -0.342912 -0.167861  -0.090562   \n",
      "\n",
      "             Srate     Drate  fin_flag_number  syn_flag_number  \\\n",
      "3466359  -0.090563 -0.000697        -0.307699        -0.510975   \n",
      "1027610  20.874866 -0.000697        -0.307699        -0.510975   \n",
      "8469760   0.899909 -0.000697        -0.307699        -0.510975   \n",
      "2015100  -0.090740 -0.000697        -0.307699        -0.510975   \n",
      "7101312  -0.090562 -0.000697        -0.307699        -0.510975   \n",
      "\n",
      "         rst_flag_number  ...       AVG       Std  Tot size       IAT  \\\n",
      "3466359         -0.31531  ... -0.293257 -0.208181 -0.292838 -0.009095   \n",
      "1027610         -0.31531  ... -0.293257 -0.208181 -0.292838 -0.014193   \n",
      "8469760         -0.31531  ... -0.309824 -0.208181 -0.309382 -0.005290   \n",
      "2015100         -0.31531  ... -0.293257 -0.208181 -0.292838 -0.013675   \n",
      "7101312         -0.31531  ... -0.293257 -0.208181 -0.292838 -0.007137   \n",
      "\n",
      "           Number  Magnitue    Radius  Covariance  Variance    Weight  \n",
      "3466359  0.001492 -0.316588 -0.208016   -0.095058 -0.414162  0.001411  \n",
      "1027610  0.001492 -0.316588 -0.208016   -0.095058 -0.414162  0.001411  \n",
      "8469760  0.001492 -0.362011 -0.208016   -0.095058 -0.414162  0.001411  \n",
      "2015100  0.001492 -0.316588 -0.208016   -0.095058 -0.414162  0.001411  \n",
      "7101312  0.001492 -0.316588 -0.208016   -0.095058 -0.414162  0.001411  \n",
      "\n",
      "[5 rows x 46 columns]\n",
      "797429     1\n",
      "1007485    1\n",
      "4156456    1\n",
      "3807121    1\n",
      "1361388    1\n",
      "Name: label, dtype: int64\n",
      "3466359    1\n",
      "1027610    1\n",
      "8469760    1\n",
      "2015100    1\n",
      "7101312    1\n",
      "Name: label, dtype: int64\n"
     ]
    }
   ],
   "source": [
    "# Display the first few rows of the processed DataFrame\n",
    "print(X_train.head())\n",
    "print(X_test.head())\n",
    "print(y_train.head())\n",
    "print(y_test.head())"
   ]
  },
  {
   "cell_type": "code",
   "execution_count": 28,
   "id": "594fa8b6",
   "metadata": {},
   "outputs": [
    {
     "data": {
      "image/png": "[encoded data removed]",
      "text/plain": [
       "<Figure size 1500x900 with 1 Axes>"
      ]
     },
     "metadata": {},
     "output_type": "display_data"
    }
   ],
   "source": [
    "# Create a bar chart for the label distribution with exact counts\n",
    "fig, ax = plt.subplots(figsize=(15, 9))\n",
    "label_counts = df[\"label\"].value_counts()\n",
    "bars = ax.bar(label_counts.index, label_counts.values, width=0.8)\n",
    "\n",
    "# Set the ticks and labels on the x-axis\n",
    "ax.set_xticks(label_counts.index)\n",
    "ax.set_xticklabels(label_counts.index, rotation=45, ha='right')\n",
    "\n",
    "# Format the number on the y-axis\n",
    "ax.yaxis.set_major_formatter(plt.FuncFormatter(lambda x, _: '{:.0f}'.format(x)))\n",
    "\n",
    "# Add labels and titles\n",
    "ax.set_xlabel('Labels')\n",
    "ax.set_ylabel('Count')\n",
    "ax.set_title('Distribution of Labels')\n",
    "\n",
    "# Show exact figures at the top of each column\n",
    "for bar in bars:\n",
    "    height = bar.get_height()\n",
    "    ax.annotate('{}'.format(height),\n",
    "                xy=(bar.get_x() + bar.get_width() / 2, height),\n",
    "                xytext=(0, 3),\n",
    "                textcoords=\"offset points\",\n",
    "                ha='center', va='bottom')\n",
    "\n",
    "plt.tight_layout()\n",
    "plt.show()"
   ]
  }
 ],
 "metadata": {
  "kernelspec": {
   "display_name": "Python 3 (ipykernel)",
   "language": "python",
   "name": "python3"
  },
  "language_info": {
   "codemirror_mode": {
    "name": "ipython",
    "version": 3
   },
   "file_extension": ".py",
   "mimetype": "text/x-python",
   "name": "python",
   "nbconvert_exporter": "python",
   "pygments_lexer": "ipython3",
   "version": "3.11.5"
  }
 },
 "nbformat": 4,
 "nbformat_minor": 5
}
